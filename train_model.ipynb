{
 "cells": [
  {
   "cell_type": "code",
   "execution_count": 1,
   "metadata": {
    "colab": {},
    "colab_type": "code",
    "id": "rR_pM7RD4qdE"
   },
   "outputs": [
    {
     "ename": "ModuleNotFoundError",
     "evalue": "No module named 'google.colab'",
     "output_type": "error",
     "traceback": [
      "\u001b[0;31m---------------------------------------------------------------------------\u001b[0m",
      "\u001b[0;31mModuleNotFoundError\u001b[0m                       Traceback (most recent call last)",
      "\u001b[0;32m<ipython-input-1-d5df0069828e>\u001b[0m in \u001b[0;36m<module>\u001b[0;34m\u001b[0m\n\u001b[0;32m----> 1\u001b[0;31m \u001b[0;32mfrom\u001b[0m \u001b[0mgoogle\u001b[0m\u001b[0;34m.\u001b[0m\u001b[0mcolab\u001b[0m \u001b[0;32mimport\u001b[0m \u001b[0mdrive\u001b[0m\u001b[0;34m\u001b[0m\u001b[0;34m\u001b[0m\u001b[0m\n\u001b[0m\u001b[1;32m      2\u001b[0m \u001b[0mdrive\u001b[0m\u001b[0;34m.\u001b[0m\u001b[0mmount\u001b[0m\u001b[0;34m(\u001b[0m\u001b[0;34m'/content/drive'\u001b[0m\u001b[0;34m)\u001b[0m\u001b[0;34m\u001b[0m\u001b[0;34m\u001b[0m\u001b[0m\n",
      "\u001b[0;31mModuleNotFoundError\u001b[0m: No module named 'google.colab'"
     ]
    }
   ],
   "source": [
    "# from google.colab import drive\n",
    "# drive.mount('/content/drive')\n"
   ]
  },
  {
   "cell_type": "code",
   "execution_count": 0,
   "metadata": {
    "colab": {},
    "colab_type": "code",
    "id": "lU45YW5c7JhH"
   },
   "outputs": [],
   "source": [
    "# import os\n",
    "\n",
    "# os.chdir('/content/drive/My Drive/Colab Notebooks/')"
   ]
  },
  {
   "cell_type": "code",
   "execution_count": 0,
   "metadata": {
    "colab": {
     "base_uri": "https://localhost:8080/",
     "height": 80
    },
    "colab_type": "code",
    "executionInfo": {
     "elapsed": 6956,
     "status": "ok",
     "timestamp": 1574339385416,
     "user": {
      "displayName": "Munan Zou",
      "photoUrl": "https://lh3.googleusercontent.com/a-/AAuE7mDvJoC20lhdZmAOqK4f94SGwuKnvT7C1UlBAdZ79w=s64",
      "userId": "11303082443926706701"
     },
     "user_tz": -540
    },
    "id": "fAalRypkSvvu",
    "outputId": "aa687c9a-c4f6-4c49-ee3e-adea13e38c70"
   },
   "outputs": [
    {
     "data": {
      "text/html": [
       "<p style=\"color: red;\">\n",
       "The default version of TensorFlow in Colab will soon switch to TensorFlow 2.x.<br>\n",
       "We recommend you <a href=\"https://www.tensorflow.org/guide/migrate\" target=\"_blank\">upgrade</a> now \n",
       "or ensure your notebook will continue to use TensorFlow 1.x via the <code>%tensorflow_version 1.x</code> magic:\n",
       "<a href=\"https://colab.research.google.com/notebooks/tensorflow_version.ipynb\" target=\"_blank\">more info</a>.</p>\n"
      ],
      "text/plain": [
       "<IPython.core.display.HTML object>"
      ]
     },
     "metadata": {
      "tags": []
     },
     "output_type": "display_data"
    }
   ],
   "source": [
    "import tensorflow as tf\n",
    "from tensorflow.keras.models import Sequential\n",
    "from tensorflow.keras.layers import Dense, Dropout, Activation, Flatten, Conv2D, MaxPool2D\n",
    "import pickle\n",
    "import numpy as np\n",
    "\n",
    "x_train = pickle.load(open(\"dog_vs_cat_data/x_train.pickle\", \"rb\"))\n",
    "y_train = pickle.load(open(\"dog_vs_cat_data/y_train.pickle\", \"rb\"))\n",
    "\n",
    "x_train = x_train/255.0"
   ]
  },
  {
   "cell_type": "code",
   "execution_count": 0,
   "metadata": {
    "colab": {
     "base_uri": "https://localhost:8080/",
     "height": 377
    },
    "colab_type": "code",
    "executionInfo": {
     "elapsed": 119332,
     "status": "ok",
     "timestamp": 1574342242282,
     "user": {
      "displayName": "Munan Zou",
      "photoUrl": "https://lh3.googleusercontent.com/a-/AAuE7mDvJoC20lhdZmAOqK4f94SGwuKnvT7C1UlBAdZ79w=s64",
      "userId": "11303082443926706701"
     },
     "user_tz": -540
    },
    "id": "4inppcgsS43Q",
    "outputId": "6c0ab6c7-88b5-4b88-d8e5-e93c64de5220"
   },
   "outputs": [
    {
     "name": "stdout",
     "output_type": "stream",
     "text": [
      "Train on 16000 samples, validate on 4000 samples\n",
      "Epoch 1/9\n",
      "16000/16000 [==============================] - 13s 837us/sample - loss: 0.6373 - acc: 0.6300 - val_loss: 0.5611 - val_acc: 0.7168\n",
      "Epoch 2/9\n",
      "16000/16000 [==============================] - 13s 826us/sample - loss: 0.5322 - acc: 0.7317 - val_loss: 0.5272 - val_acc: 0.7370\n",
      "Epoch 3/9\n",
      "16000/16000 [==============================] - 13s 822us/sample - loss: 0.4624 - acc: 0.7778 - val_loss: 0.4264 - val_acc: 0.8073\n",
      "Epoch 4/9\n",
      "16000/16000 [==============================] - 13s 817us/sample - loss: 0.4077 - acc: 0.8137 - val_loss: 0.3963 - val_acc: 0.8275\n",
      "Epoch 5/9\n",
      "16000/16000 [==============================] - 13s 812us/sample - loss: 0.3604 - acc: 0.8399 - val_loss: 0.4170 - val_acc: 0.8067\n",
      "Epoch 6/9\n",
      "16000/16000 [==============================] - 13s 818us/sample - loss: 0.3247 - acc: 0.8553 - val_loss: 0.3982 - val_acc: 0.8102\n",
      "Epoch 7/9\n",
      "16000/16000 [==============================] - 13s 812us/sample - loss: 0.2828 - acc: 0.8767 - val_loss: 0.3925 - val_acc: 0.8370\n",
      "Epoch 8/9\n",
      "16000/16000 [==============================] - 13s 815us/sample - loss: 0.2422 - acc: 0.8984 - val_loss: 0.3820 - val_acc: 0.8405\n",
      "Epoch 9/9\n",
      "16000/16000 [==============================] - 13s 802us/sample - loss: 0.2113 - acc: 0.9112 - val_loss: 0.3750 - val_acc: 0.8497\n"
     ]
    },
    {
     "data": {
      "text/plain": [
       "<tensorflow.python.keras.callbacks.History at 0x7f56802e6cc0>"
      ]
     },
     "execution_count": 10,
     "metadata": {
      "tags": []
     },
     "output_type": "execute_result"
    }
   ],
   "source": [
    "model = Sequential()\n",
    "\n",
    "\n",
    "model.add(Conv2D(64, (3, 3), input_shape = x_train.shape[1:]))\n",
    "model.add(Activation(\"relu\"))\n",
    "model.add(MaxPool2D(pool_size=(2,2)))\n",
    "\n",
    "model.add(Conv2D(64, (3, 3)))\n",
    "model.add(Activation(\"relu\"))\n",
    "model.add(MaxPool2D(pool_size=(2,2)))\n",
    "\n",
    "model.add(Conv2D(64, (3, 3)))\n",
    "model.add(Activation(\"relu\"))\n",
    "model.add(MaxPool2D(pool_size=(2,2)))\n",
    "\n",
    "model.add(Conv2D(64, (3, 3)))\n",
    "model.add(Activation(\"relu\"))\n",
    "model.add(MaxPool2D(pool_size=(2,2)))\n",
    "\n",
    "model.add(Flatten())\n",
    "model.add(Dense(64))\n",
    "\n",
    "model.add(Dense(1))\n",
    "model.add(Activation(\"sigmoid\"))\n",
    "\n",
    "model.compile(loss=\"binary_crossentropy\", \n",
    "                        optimizer=\"adam\",\n",
    "                        metrics=[\"accuracy\"])\n",
    "          \n",
    "model.fit(x_train, y_train, batch_size=32, validation_split=0.2, use_multiprocessing=True, epochs=9)"
   ]
  },
  {
   "cell_type": "code",
   "execution_count": 0,
   "metadata": {
    "colab": {
     "base_uri": "https://localhost:8080/",
     "height": 173
    },
    "colab_type": "code",
    "executionInfo": {
     "elapsed": 39257,
     "status": "ok",
     "timestamp": 1574342392203,
     "user": {
      "displayName": "Munan Zou",
      "photoUrl": "https://lh3.googleusercontent.com/a-/AAuE7mDvJoC20lhdZmAOqK4f94SGwuKnvT7C1UlBAdZ79w=s64",
      "userId": "11303082443926706701"
     },
     "user_tz": -540
    },
    "id": "x8P8__CbHZR9",
    "outputId": "f3d4db57-c5a0-45b9-ef75-b58acd85d8bd"
   },
   "outputs": [
    {
     "name": "stdout",
     "output_type": "stream",
     "text": [
      "Train on 16000 samples, validate on 4000 samples\n",
      "Epoch 10/12\n",
      "16000/16000 [==============================] - 13s 800us/sample - loss: 0.1828 - acc: 0.9222 - val_loss: 0.4644 - val_acc: 0.8338\n",
      "Epoch 11/12\n",
      "16000/16000 [==============================] - 13s 806us/sample - loss: 0.1507 - acc: 0.9392 - val_loss: 0.4639 - val_acc: 0.8413\n",
      "Epoch 12/12\n",
      "16000/16000 [==============================] - 13s 816us/sample - loss: 0.1355 - acc: 0.9461 - val_loss: 0.5195 - val_acc: 0.8370\n"
     ]
    },
    {
     "data": {
      "text/plain": [
       "<tensorflow.python.keras.callbacks.History at 0x7f568047f6d8>"
      ]
     },
     "execution_count": 12,
     "metadata": {
      "tags": []
     },
     "output_type": "execute_result"
    }
   ],
   "source": [
    "model.fit(x_train, y_train, batch_size=32, validation_split=0.2, use_multiprocessing=True, initial_epoch=9, epochs=12)"
   ]
  },
  {
   "cell_type": "code",
   "execution_count": 0,
   "metadata": {
    "colab": {
     "base_uri": "https://localhost:8080/",
     "height": 51
    },
    "colab_type": "code",
    "executionInfo": {
     "elapsed": 2617,
     "status": "ok",
     "timestamp": 1574343715128,
     "user": {
      "displayName": "Munan Zou",
      "photoUrl": "https://lh3.googleusercontent.com/a-/AAuE7mDvJoC20lhdZmAOqK4f94SGwuKnvT7C1UlBAdZ79w=s64",
      "userId": "11303082443926706701"
     },
     "user_tz": -540
    },
    "id": "Mx7M-jauFkXj",
    "outputId": "76164d31-bf3d-4575-aa63-407a4884a42c"
   },
   "outputs": [
    {
     "name": "stdout",
     "output_type": "stream",
     "text": [
      "5000/5000 [==============================] - 2s 309us/sample - loss: 0.2496 - acc: 0.9148\n"
     ]
    },
    {
     "data": {
      "text/plain": [
       "[0.24959497456550597, 0.9148]"
      ]
     },
     "execution_count": 38,
     "metadata": {
      "tags": []
     },
     "output_type": "execute_result"
    }
   ],
   "source": [
    "x_test = pickle.load(open(\"dog_vs_cat_data/x_test.pickle\", \"rb\"))\n",
    "y_test = pickle.load(open(\"dog_vs_cat_data/y_test.pickle\", \"rb\"))\n",
    "x_test = x_test/255\n",
    "model.evaluate(x_test, y_test)"
   ]
  },
  {
   "cell_type": "code",
   "execution_count": 0,
   "metadata": {
    "colab": {},
    "colab_type": "code",
    "id": "dYcnubKwHWPW"
   },
   "outputs": [],
   "source": [
    "import matplotlib.pyplot as plt\n",
    "\n",
    "def imshow(image):\n",
    "    \n",
    "    sample = image.reshape(80,80)\n",
    "    plt.imshow(sample)\n",
    "    plt.show()"
   ]
  },
  {
   "cell_type": "code",
   "execution_count": 0,
   "metadata": {
    "colab": {},
    "colab_type": "code",
    "id": "Jz_2u689LzQU"
   },
   "outputs": [],
   "source": [
    "predictions = model.predict([x_test])"
   ]
  },
  {
   "cell_type": "code",
   "execution_count": 0,
   "metadata": {
    "colab": {},
    "colab_type": "code",
    "id": "wvvcpNsjL00D"
   },
   "outputs": [],
   "source": [
    "def compare(index):\n",
    "    try: \n",
    "        prediction = \"a dog\" if predictions[index] <= 0.5 else \"a cat\"\n",
    "        fact = \"a dog\" if y_test[index] == 0 else \"a cat\"\n",
    "        print(\"prediction : \" + prediction)\n",
    "        print(\"fact : \" + fact)\n",
    "        imshow(x_test[index] * 255)\n",
    "    except Exception as e:\n",
    "        print(e)"
   ]
  },
  {
   "cell_type": "code",
   "execution_count": 0,
   "metadata": {
    "colab": {
     "base_uri": "https://localhost:8080/",
     "height": 168
    },
    "colab_type": "code",
    "collapsed": true,
    "executionInfo": {
     "elapsed": 1713,
     "status": "error",
     "timestamp": 1574346167646,
     "user": {
      "displayName": "Munan Zou",
      "photoUrl": "https://lh3.googleusercontent.com/a-/AAuE7mDvJoC20lhdZmAOqK4f94SGwuKnvT7C1UlBAdZ79w=s64",
      "userId": "11303082443926706701"
     },
     "user_tz": -540
    },
    "id": "BhiBk1JcMZbA",
    "outputId": "e3ec6080-fc14-4b52-f5a4-273a7840d3fd"
   },
   "outputs": [
    {
     "ename": "NameError",
     "evalue": "ignored",
     "output_type": "error",
     "traceback": [
      "\u001b[0;31m---------------------------------------------------------------------------\u001b[0m",
      "\u001b[0;31mNameError\u001b[0m                                 Traceback (most recent call last)",
      "\u001b[0;32m<ipython-input-1-24b578c4780a>\u001b[0m in \u001b[0;36m<module>\u001b[0;34m()\u001b[0m\n\u001b[0;32m----> 1\u001b[0;31m \u001b[0mcompare\u001b[0m\u001b[0;34m(\u001b[0m\u001b[0;36m1241\u001b[0m\u001b[0;34m)\u001b[0m\u001b[0;34m\u001b[0m\u001b[0;34m\u001b[0m\u001b[0m\n\u001b[0m",
      "\u001b[0;31mNameError\u001b[0m: name 'compare' is not defined"
     ]
    }
   ],
   "source": [
    "compare(1241)"
   ]
  },
  {
   "cell_type": "code",
   "execution_count": 0,
   "metadata": {
    "colab": {},
    "colab_type": "code",
    "id": "P4Dg9LoBMa8w"
   },
   "outputs": [],
   "source": [
    "model.save(\"dogs_vs_cats.model\")"
   ]
  },
  {
   "cell_type": "code",
   "execution_count": 0,
   "metadata": {
    "colab": {
     "base_uri": "https://localhost:8080/",
     "height": 328
    },
    "colab_type": "code",
    "executionInfo": {
     "elapsed": 3080,
     "status": "error",
     "timestamp": 1574346272843,
     "user": {
      "displayName": "Munan Zou",
      "photoUrl": "https://lh3.googleusercontent.com/a-/AAuE7mDvJoC20lhdZmAOqK4f94SGwuKnvT7C1UlBAdZ79w=s64",
      "userId": "11303082443926706701"
     },
     "user_tz": -540
    },
    "id": "rv0FCg5QO945",
    "outputId": "1d8a1e60-18d4-4cd2-bf44-2a05350b0164"
   },
   "outputs": [
    {
     "ename": "OSError",
     "evalue": "ignored",
     "output_type": "error",
     "traceback": [
      "\u001b[0;31m---------------------------------------------------------------------------\u001b[0m",
      "\u001b[0;31mOSError\u001b[0m                                   Traceback (most recent call last)",
      "\u001b[0;32m<ipython-input-2-a60376909ab2>\u001b[0m in \u001b[0;36m<module>\u001b[0;34m()\u001b[0m\n\u001b[1;32m      1\u001b[0m \u001b[0;32mfrom\u001b[0m \u001b[0mtensorflow\u001b[0m\u001b[0;34m.\u001b[0m\u001b[0mkeras\u001b[0m \u001b[0;32mimport\u001b[0m \u001b[0mmodels\u001b[0m\u001b[0;34m\u001b[0m\u001b[0;34m\u001b[0m\u001b[0m\n\u001b[0;32m----> 2\u001b[0;31m \u001b[0mmodels\u001b[0m\u001b[0;34m.\u001b[0m\u001b[0mload_model\u001b[0m\u001b[0;34m(\u001b[0m\u001b[0;34m\"dogs_vs_cats.model\"\u001b[0m\u001b[0;34m)\u001b[0m\u001b[0;34m\u001b[0m\u001b[0;34m\u001b[0m\u001b[0m\n\u001b[0m",
      "\u001b[0;32m/usr/local/lib/python3.6/dist-packages/tensorflow_core/python/keras/saving/save.py\u001b[0m in \u001b[0;36mload_model\u001b[0;34m(filepath, custom_objects, compile)\u001b[0m\n\u001b[1;32m    144\u001b[0m \u001b[0;34m\u001b[0m\u001b[0m\n\u001b[1;32m    145\u001b[0m   \u001b[0;32mif\u001b[0m \u001b[0misinstance\u001b[0m\u001b[0;34m(\u001b[0m\u001b[0mfilepath\u001b[0m\u001b[0;34m,\u001b[0m \u001b[0msix\u001b[0m\u001b[0;34m.\u001b[0m\u001b[0mstring_types\u001b[0m\u001b[0;34m)\u001b[0m\u001b[0;34m:\u001b[0m\u001b[0;34m\u001b[0m\u001b[0;34m\u001b[0m\u001b[0m\n\u001b[0;32m--> 146\u001b[0;31m     \u001b[0mloader_impl\u001b[0m\u001b[0;34m.\u001b[0m\u001b[0mparse_saved_model\u001b[0m\u001b[0;34m(\u001b[0m\u001b[0mfilepath\u001b[0m\u001b[0;34m)\u001b[0m\u001b[0;34m\u001b[0m\u001b[0;34m\u001b[0m\u001b[0m\n\u001b[0m\u001b[1;32m    147\u001b[0m     \u001b[0;32mreturn\u001b[0m \u001b[0msaved_model_load\u001b[0m\u001b[0;34m.\u001b[0m\u001b[0mload\u001b[0m\u001b[0;34m(\u001b[0m\u001b[0mfilepath\u001b[0m\u001b[0;34m,\u001b[0m \u001b[0mcompile\u001b[0m\u001b[0;34m)\u001b[0m\u001b[0;34m\u001b[0m\u001b[0;34m\u001b[0m\u001b[0m\n\u001b[1;32m    148\u001b[0m \u001b[0;34m\u001b[0m\u001b[0m\n",
      "\u001b[0;32m/usr/local/lib/python3.6/dist-packages/tensorflow_core/python/saved_model/loader_impl.py\u001b[0m in \u001b[0;36mparse_saved_model\u001b[0;34m(export_dir)\u001b[0m\n\u001b[1;32m     81\u001b[0m                   (export_dir,\n\u001b[1;32m     82\u001b[0m                    \u001b[0mconstants\u001b[0m\u001b[0;34m.\u001b[0m\u001b[0mSAVED_MODEL_FILENAME_PBTXT\u001b[0m\u001b[0;34m,\u001b[0m\u001b[0;34m\u001b[0m\u001b[0;34m\u001b[0m\u001b[0m\n\u001b[0;32m---> 83\u001b[0;31m                    constants.SAVED_MODEL_FILENAME_PB))\n\u001b[0m\u001b[1;32m     84\u001b[0m \u001b[0;34m\u001b[0m\u001b[0m\n\u001b[1;32m     85\u001b[0m \u001b[0;34m\u001b[0m\u001b[0m\n",
      "\u001b[0;31mOSError\u001b[0m: SavedModel file does not exist at: dogs_vs_cats.model/{saved_model.pbtxt|saved_model.pb}"
     ]
    }
   ],
   "source": []
  },
  {
   "cell_type": "code",
   "execution_count": 0,
   "metadata": {
    "colab": {},
    "colab_type": "code",
    "id": "wOjdyExgPs_O"
   },
   "outputs": [],
   "source": []
  }
 ],
 "metadata": {
  "accelerator": "GPU",
  "colab": {
   "collapsed_sections": [],
   "name": "cats_vs_dogs.ipynb",
   "provenance": []
  },
  "kernelspec": {
   "display_name": "Python 3",
   "language": "python",
   "name": "python3"
  },
  "language_info": {
   "codemirror_mode": {
    "name": "ipython",
    "version": 3
   },
   "file_extension": ".py",
   "mimetype": "text/x-python",
   "name": "python",
   "nbconvert_exporter": "python",
   "pygments_lexer": "ipython3",
   "version": "3.7.3"
  }
 },
 "nbformat": 4,
 "nbformat_minor": 1
}
